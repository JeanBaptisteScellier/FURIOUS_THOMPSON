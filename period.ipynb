{
 "cells": [
  {
   "cell_type": "markdown",
   "metadata": {
    "ExecuteTime": {
     "end_time": "2019-03-31T00:01:14.483032Z",
     "start_time": "2019-03-31T00:01:14.478726Z"
    }
   },
   "source": [
    "<font size=\"5\">__Symptoms prediction__<font>"
   ]
  },
  {
   "cell_type": "markdown",
   "metadata": {
    "ExecuteTime": {
     "end_time": "2019-03-31T08:31:17.193384Z",
     "start_time": "2019-03-31T08:29:21.809Z"
    }
   },
   "source": [
    "In this notebook, we use data given by Pslove about their user's periods"
   ]
  },
  {
   "cell_type": "markdown",
   "metadata": {
    "ExecuteTime": {
     "end_time": "2019-03-31T08:31:17.181699Z",
     "start_time": "2019-03-31T08:31:17.171739Z"
    }
   },
   "source": [
    "# Data mining"
   ]
  },
  {
   "cell_type": "code",
   "execution_count": 36,
   "metadata": {
    "ExecuteTime": {
     "end_time": "2019-03-31T08:33:58.792173Z",
     "start_time": "2019-03-31T08:33:58.675528Z"
    }
   },
   "outputs": [],
   "source": [
    "import numpy as np\n",
    "import pandas as pd\n",
    "import matplotlib.pyplot as plt\n",
    "from datetime import datetime\n",
    "from joblib import dump, load\n",
    "\n",
    "from sklearn.ensemble import RandomForestRegressor\n",
    "from sklearn.model_selection import cross_val_score\n",
    "from sklearn.model_selection import train_test_split\n",
    "from sklearn.model_selection import GridSearchCV"
   ]
  },
  {
   "cell_type": "code",
   "execution_count": 4,
   "metadata": {
    "ExecuteTime": {
     "end_time": "2019-03-31T08:18:09.683492Z",
     "start_time": "2019-03-31T08:18:01.704575Z"
    }
   },
   "outputs": [],
   "source": [
    "# Import files\n",
    "user = pd.read_csv('User.csv', index_col=0)\n",
    "period = pd.read_csv('Period.csv', index_col=0)\n",
    "symptoms = pd.read_csv('Symptom.csv', index_col=0)\n",
    "\n",
    "# Change data types to nice date types\n",
    "user.cycle_length_initial = pd.to_timedelta(user.cycle_length_initial, unit='D').dt.days\n",
    "user.period_length_initial = pd.to_timedelta(user.period_length_initial, unit='D').dt.days\n",
    "user.dob = pd.to_datetime(user.dob, dayfirst=True, errors='coerce')\n",
    "period.start_date = pd.to_datetime(period.start_date, dayfirst=True, errors='coerce')\n",
    "period.end_date = pd.to_datetime(period.end_date, dayfirst=True, errors='coerce')\n",
    "symptoms.date = pd.to_datetime(symptoms.date, dayfirst=True, errors='coerce')"
   ]
  },
  {
   "cell_type": "code",
   "execution_count": 8,
   "metadata": {
    "ExecuteTime": {
     "end_time": "2019-03-31T08:19:06.309190Z",
     "start_time": "2019-03-31T08:18:45.988196Z"
    }
   },
   "outputs": [],
   "source": [
    "# Calculate period length\n",
    "period = period.join(user, on='User_id')\n",
    "period['length'] = (period.end_date-period.start_date).dt.days + 1\n",
    "period = period.drop(period[period.length<2].index)\n",
    "period = period.drop(period[period.length>11].index)\n",
    "\n",
    "# Calculate the rank of the user's period\n",
    "period['order'] = 0\n",
    "for user_id in user.index:\n",
    "    index = period[period.User_id == user_id].sort_values('start_date').index\n",
    "    period.loc[index, 'order'] = pd.Series(range(len(index)), index=index)"
   ]
  },
  {
   "cell_type": "code",
   "execution_count": 13,
   "metadata": {
    "ExecuteTime": {
     "end_time": "2019-03-31T08:21:48.720132Z",
     "start_time": "2019-03-31T08:21:48.671550Z"
    },
    "scrolled": true
   },
   "outputs": [],
   "source": [
    "# Calculate days between periods\n",
    "diff = period.loc[:, ['User_id', 'start_date']].sort_values(['User_id', 'start_date']).diff()\n",
    "period['days_since_last'] = ((1 - diff.User_id) * diff.start_date).sort_index().dt.days\n",
    "# If no previous period saved, fix length at 'cycle_length_initial'\n",
    "index = period.loc[period.days_since_last==0].index\n",
    "period.loc[index, 'days_since_last'] = period.cycle_length_initial"
   ]
  },
  {
   "cell_type": "code",
   "execution_count": 10,
   "metadata": {
    "ExecuteTime": {
     "end_time": "2019-03-31T08:19:35.143699Z",
     "start_time": "2019-03-31T08:19:35.131745Z"
    }
   },
   "outputs": [],
   "source": [
    "def last_period(x):\n",
    "    # Return last first day of period\n",
    "    user_period = period[period.User_id == x.user_id]\n",
    "    last_date = user_period[user_period.start_date <= x.date].start_date.max()\n",
    "    return last_date\n",
    "\n",
    "def last_period_order(x):\n",
    "    # Return last period order\n",
    "    user_period = period[period.User_id == x.user_id]\n",
    "    last_order = user_period[user_period.start_date <= x.date].order.max()\n",
    "    return last_order\n",
    "\n",
    "def last_len_period(x):\n",
    "    # Return last period length\n",
    "    liste = period[(period.User_id==x.user_id)&(period.start_date==x.last_period)].length\n",
    "    if len(liste)==0:\n",
    "        return 0\n",
    "    else:\n",
    "        return liste.iloc[0]\n",
    "\n",
    "def last_len_cycle(x):\n",
    "    # Return last cycle length\n",
    "    liste = period[(period.User_id==x.user_id)&(period.start_date==x.last_period)].days_since_last\n",
    "    if len(liste)==0:\n",
    "        return 0\n",
    "    else:\n",
    "        return liste.iloc[0]"
   ]
  },
  {
   "cell_type": "code",
   "execution_count": 17,
   "metadata": {
    "ExecuteTime": {
     "end_time": "2019-03-31T08:23:24.047455Z",
     "start_time": "2019-03-31T08:22:56.305460Z"
    },
    "scrolled": true
   },
   "outputs": [],
   "source": [
    "# Get features about last period\n",
    "symptoms['last_period'] = symptoms.apply(last_period, axis=1)\n",
    "symptoms['last_order'] = symptoms.apply(last_period_order, axis=1)\n",
    "symptoms['last_len_period'] = symptoms.apply(last_len_period, axis=1)\n",
    "symptoms['last_len_cycle'] = symptoms.apply(last_len_cycle, axis=1)\n",
    "symptoms = symptoms.join(user, on='user_id')\n",
    "# Days since period begin\n",
    "symptoms['period_day'] = (symptoms.date - symptoms.last_period).dt.days"
   ]
  },
  {
   "cell_type": "code",
   "execution_count": 19,
   "metadata": {
    "ExecuteTime": {
     "end_time": "2019-03-31T08:23:44.347659Z",
     "start_time": "2019-03-31T08:23:44.298337Z"
    },
    "scrolled": true
   },
   "outputs": [],
   "source": [
    "# Calculate mean cycle length\n",
    "mean_cycle = period[period.days_since_last<50].groupby('User_id').mean()['days_since_last']\n",
    "symptoms = symptoms.join(mean_cycle.rename('mean_cycle'), on='user_id')\n",
    "# Calculate mean period length\n",
    "mean_period = period.groupby('User_id').mean()['length']\n",
    "symptoms = symptoms.join(mean_period.rename('mean_period'), on='user_id')"
   ]
  },
  {
   "cell_type": "code",
   "execution_count": 28,
   "metadata": {
    "ExecuteTime": {
     "end_time": "2019-03-31T08:25:58.988105Z",
     "start_time": "2019-03-31T08:25:58.966240Z"
    },
    "scrolled": true
   },
   "outputs": [],
   "source": [
    "# Create features and labels matrices\n",
    "X = symptoms.loc[:, ['period_day', 'last_len_period', 'last_len_cycle', 'mean_cycle', 'mean_period']]\n",
    "Y = symptoms.loc[:, ['acne', 'backache', 'bloating', 'cramp', 'diarrhea', 'dizzy', 'headache', 'mood', 'nausea', 'sore']]\n",
    "#\n",
    "X.last_len_period = X.last_len_period.fillna(X.mean_period)\n",
    "X = X.dropna()\n",
    "Y = Y.loc[X.index]\n",
    "# Split traint test\n",
    "X_train, X_test, y_train, y_test = train_test_split(X, Y)\n"
   ]
  },
  {
   "cell_type": "code",
   "execution_count": 775,
   "metadata": {
    "ExecuteTime": {
     "end_time": "2019-03-30T23:38:22.642858Z",
     "start_time": "2019-03-30T23:38:22.219888Z"
    },
    "scrolled": true
   },
   "outputs": [
    {
     "name": "stderr",
     "output_type": "stream",
     "text": [
      "/anaconda3/lib/python3.6/site-packages/sklearn/ensemble/forest.py:246: FutureWarning: The default value of n_estimators will change from 10 in version 0.20 to 100 in 0.22.\n",
      "  \"10 in version 0.20 to 100 in 0.22.\", FutureWarning)\n"
     ]
    }
   ],
   "source": [
    "\n",
    "rfr = rfr.fit(X_train, y_train)\n",
    "y_predict = rfr.predict(X_test)\n",
    "#scores = cross_val_score(rfr, X, Y, cv=5)"
   ]
  },
  {
   "cell_type": "markdown",
   "metadata": {
    "ExecuteTime": {
     "end_time": "2019-03-31T08:26:37.036862Z",
     "start_time": "2019-03-31T08:26:37.030696Z"
    }
   },
   "source": [
    "# Machine learning"
   ]
  },
  {
   "cell_type": "code",
   "execution_count": 31,
   "metadata": {
    "ExecuteTime": {
     "end_time": "2019-03-31T08:31:16.815536Z",
     "start_time": "2019-03-31T08:27:38.504287Z"
    }
   },
   "outputs": [
    {
     "data": {
      "text/plain": [
       "{'bootstrap': True,\n",
       " 'max_depth': 10,\n",
       " 'max_features': 3,\n",
       " 'min_samples_split': 10,\n",
       " 'n_estimators': 100}"
      ]
     },
     "execution_count": 31,
     "metadata": {},
     "output_type": "execute_result"
    }
   ],
   "source": [
    "# Grid search to get the best model using RandomForest\n",
    "# Specify parameters to sample from\n",
    "param_grid = {\"n_estimators\" : [20, 50, 100],\n",
    "              \"max_depth\": [5, 10, None],\n",
    "              \"max_features\": [2, 3, 4],\n",
    "              \"min_samples_split\": [5, 10, 20],\n",
    "              \"bootstrap\": [True, False]}\n",
    "#\n",
    "rfr = RandomForestRegressor()\n",
    "# run grid search\n",
    "grid_search = GridSearchCV(rfr, param_grid, cv=3, n_jobs=-1)\n",
    "grid_search.fit(X, Y)\n",
    "grid_search.best_params_"
   ]
  },
  {
   "cell_type": "code",
   "execution_count": 37,
   "metadata": {
    "ExecuteTime": {
     "end_time": "2019-03-31T08:34:25.786837Z",
     "start_time": "2019-03-31T08:34:25.684682Z"
    }
   },
   "outputs": [
    {
     "data": {
      "text/plain": [
       "['model1.joblib']"
      ]
     },
     "execution_count": 37,
     "metadata": {},
     "output_type": "execute_result"
    }
   ],
   "source": [
    "# Save model\n",
    "dump(rfr, 'model1.joblib')"
   ]
  },
  {
   "cell_type": "code",
   "execution_count": 38,
   "metadata": {
    "ExecuteTime": {
     "end_time": "2019-03-31T08:35:21.384243Z",
     "start_time": "2019-03-31T08:35:19.921034Z"
    }
   },
   "outputs": [
    {
     "data": {
      "text/plain": [
       "0.10366016267801274"
      ]
     },
     "execution_count": 38,
     "metadata": {},
     "output_type": "execute_result"
    }
   ],
   "source": [
    "# Get the model (from grid search or load it)\n",
    "#rfr = grid_search.best_estimator_\n",
    "rfr = load('model1.joblib')\n",
    "\n",
    "# Fit and get score\n",
    "rfr.fit(X_train, y_train)\n",
    "rfr.score(X_test, y_test)"
   ]
  }
 ],
 "metadata": {
  "kernelspec": {
   "display_name": "Python 3",
   "language": "python",
   "name": "python3"
  },
  "language_info": {
   "codemirror_mode": {
    "name": "ipython",
    "version": 3
   },
   "file_extension": ".py",
   "mimetype": "text/x-python",
   "name": "python",
   "nbconvert_exporter": "python",
   "pygments_lexer": "ipython3",
   "version": "3.6.8"
  },
  "toc": {
   "base_numbering": 1,
   "nav_menu": {},
   "number_sections": true,
   "sideBar": true,
   "skip_h1_title": false,
   "title_cell": "Table of Contents",
   "title_sidebar": "Contents",
   "toc_cell": false,
   "toc_position": {},
   "toc_section_display": true,
   "toc_window_display": false
  },
  "varInspector": {
   "cols": {
    "lenName": 16,
    "lenType": 16,
    "lenVar": 40
   },
   "kernels_config": {
    "python": {
     "delete_cmd_postfix": "",
     "delete_cmd_prefix": "del ",
     "library": "var_list.py",
     "varRefreshCmd": "print(var_dic_list())"
    },
    "r": {
     "delete_cmd_postfix": ") ",
     "delete_cmd_prefix": "rm(",
     "library": "var_list.r",
     "varRefreshCmd": "cat(var_dic_list()) "
    }
   },
   "types_to_exclude": [
    "module",
    "function",
    "builtin_function_or_method",
    "instance",
    "_Feature"
   ],
   "window_display": false
  }
 },
 "nbformat": 4,
 "nbformat_minor": 2
}
